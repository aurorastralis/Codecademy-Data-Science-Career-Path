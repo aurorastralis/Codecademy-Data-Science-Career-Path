{
 "cells": [
  {
   "cell_type": "markdown",
   "id": "f4c71b09",
   "metadata": {},
   "source": [
    "# EDA: Diagnosing Diabetes"
   ]
  },
  {
   "cell_type": "markdown",
   "id": "7cf00067",
   "metadata": {},
   "source": [
    "In this project, you'll imagine you are a data scientist interested in exploring data that looks at how certain diagnostic factors affect the diabetes outcome of women patients.\n",
    "\n",
    "You will use your EDA skills to help inspect, clean, and validate the data.\n",
    "\n",
    "**Note**: This [dataset](https://www.kaggle.com/uciml/pima-indians-diabetes-database) is from the National Institute of Diabetes and Digestive and Kidney Diseases. It contains the following columns:\n",
    "\n",
    "- `Pregnancies`: Number of times pregnant\n",
    "- `Glucose`: Plasma glucose concentration per 2 hours in an oral glucose tolerance test\n",
    "- `BloodPressure`: Diastolic blood pressure\n",
    "- `SkinThickness`: Triceps skinfold thickness\n",
    "- `Insulin`: 2-Hour serum insulin\n",
    "- `BMI`: Body mass index\n",
    "- `DiabetesPedigreeFunction`: Diabetes pedigree function\n",
    "- `Age`: Age (years)\n",
    "- `Outcome`: Class variable (0 or 1)\n",
    "\n",
    "Let's get started!"
   ]
  },
  {
   "cell_type": "markdown",
   "id": "6e1cc217",
   "metadata": {},
   "source": [
    "## Initial Inspection"
   ]
  },
  {
   "cell_type": "markdown",
   "id": "76684c5b",
   "metadata": {},
   "source": [
    "1. First, familiarize yourself with the dataset [here](https://www.kaggle.com/uciml/pima-indians-diabetes-database).\n",
    "\n",
    "   Look at each of the nine columns in the documentation.\n",
    "   \n",
    "   What do you expect each data type to be?"
   ]
  },
  {
   "cell_type": "markdown",
   "id": "f7bdb023",
   "metadata": {},
   "source": [
    "Expected data type for each column:\n",
    "\n",
    "- `Pregnancies`: int64\n",
    "- `Glucose`: int64\n",
    "- `BloodPressure`: int64 \n",
    "- `SkinThickness`: int64\n",
    "- `Insulin`: int64\n",
    "- `BMI`: float64\n",
    "- `DiabetesPedigreeFunction`: float64\n",
    "- `Age`: int64\n",
    "- `Outcome`: Boolean"
   ]
  },
  {
   "cell_type": "markdown",
   "id": "fc54249b",
   "metadata": {},
   "source": [
    "2. Next, let's load in the diabetes data to start exploring.\n",
    "\n",
    "   Load the data in a variable called `diabetes_data` and print the first few rows.\n",
    "   \n",
    "   **Note**: The data is stored in a file called `diabetes.csv`."
   ]
  },
  {
   "cell_type": "code",
   "execution_count": 2,
   "id": "4839762f",
   "metadata": {},
   "outputs": [
    {
     "name": "stdout",
     "output_type": "stream",
     "text": [
      "   Pregnancies  Glucose  BloodPressure  SkinThickness  Insulin   BMI  \\\n",
      "0            6      148             72             35        0  33.6   \n",
      "1            1       85             66             29        0  26.6   \n",
      "2            8      183             64              0        0  23.3   \n",
      "3            1       89             66             23       94  28.1   \n",
      "4            0      137             40             35      168  43.1   \n",
      "\n",
      "   DiabetesPedigreeFunction  Age Outcome  \n",
      "0                     0.627   50       1  \n",
      "1                     0.351   31       0  \n",
      "2                     0.672   32       1  \n",
      "3                     0.167   21       0  \n",
      "4                     2.288   33       1  \n"
     ]
    }
   ],
   "source": [
    "import pandas as pd\n",
    "import numpy as np\n",
    "\n",
    "# load in data\n",
    "diabetes_data = pd.read_csv('diabetes.csv')\n",
    "print(diabetes_data.head())"
   ]
  },
  {
   "cell_type": "markdown",
   "id": "90d35b44",
   "metadata": {},
   "source": [
    "3. How many columns (features) does the data contain?"
   ]
  },
  {
   "cell_type": "code",
   "execution_count": 7,
   "id": "c7fc98c4",
   "metadata": {},
   "outputs": [
    {
     "name": "stdout",
     "output_type": "stream",
     "text": [
      "9\n"
     ]
    }
   ],
   "source": [
    "# print number of columns\n",
    "print(len(diabetes_data.columns))"
   ]
  },
  {
   "cell_type": "markdown",
   "id": "35d2bf80",
   "metadata": {},
   "source": [
    "4. How many rows (observations) does the data contain?"
   ]
  },
  {
   "cell_type": "code",
   "execution_count": 9,
   "id": "190b7a90",
   "metadata": {},
   "outputs": [
    {
     "name": "stdout",
     "output_type": "stream",
     "text": [
      "768\n"
     ]
    }
   ],
   "source": [
    "# print number of rows\n",
    "print(len(diabetes_data))"
   ]
  },
  {
   "cell_type": "markdown",
   "id": "65d8ddf0",
   "metadata": {},
   "source": [
    "## Further Inspection"
   ]
  },
  {
   "cell_type": "markdown",
   "id": "04e3c6ef",
   "metadata": {},
   "source": [
    "5. Let's inspect `diabetes_data` further.\n",
    "\n",
    "   Do any of the columns in the data contain null (missing) values?"
   ]
  },
  {
   "cell_type": "code",
   "execution_count": 11,
   "id": "d0fa3860",
   "metadata": {},
   "outputs": [
    {
     "name": "stdout",
     "output_type": "stream",
     "text": [
      "[ 6  1  8  0  5  3 10  2  4  7  9 11 13 15 17 12 14]\n",
      "[148  85 183  89 137 116  78 115 197 125 110 168 139 189 166 100 118 107\n",
      " 103 126  99 196 119 143 147  97 145 117 109 158  88  92 122 138 102  90\n",
      " 111 180 133 106 171 159 146  71 105 101 176 150  73 187  84  44 141 114\n",
      "  95 129  79   0  62 131 112 113  74  83 136  80 123  81 134 142 144  93\n",
      " 163 151  96 155  76 160 124 162 132 120 173 170 128 108 154  57 156 153\n",
      " 188 152 104  87  75 179 130 194 181 135 184 140 177 164  91 165  86 193\n",
      " 191 161 167  77 182 157 178  61  98 127  82  72 172  94 175 195  68 186\n",
      " 198 121  67 174 199  56 169 149  65 190]\n",
      "[ 72  66  64  40  74  50   0  70  96  92  80  60  84  30  88  90  94  76\n",
      "  82  75  58  78  68 110  56  62  85  86  48  44  65 108  55 122  54  52\n",
      "  98 104  95  46 102 100  61  24  38 106 114]\n",
      "[35 29  0 23 32 45 19 47 38 30 41 33 26 15 36 11 31 37 42 25 18 24 39 27\n",
      " 21 34 10 60 13 20 22 28 54 40 51 56 14 17 50 44 12 46 16  7 52 43 48  8\n",
      " 49 63 99]\n",
      "[  0  94 168  88 543 846 175 230  83  96 235 146 115 140 110 245  54 192\n",
      " 207  70 240  82  36  23 300 342 304 142 128  38 100  90 270  71 125 176\n",
      "  48  64 228  76 220  40 152  18 135 495  37  51  99 145 225  49  50  92\n",
      " 325  63 284 119 204 155 485  53 114 105 285 156  78 130  55  58 160 210\n",
      " 318  44 190 280  87 271 129 120 478  56  32 744 370  45 194 680 402 258\n",
      " 375 150  67  57 116 278 122 545  75  74 182 360 215 184  42 132 148 180\n",
      " 205  85 231  29  68  52 255 171  73 108  43 167 249 293  66 465  89 158\n",
      "  84  72  59  81 196 415 275 165 579 310  61 474 170 277  60  14  95 237\n",
      " 191 328 250 480 265 193  79  86 326 188 106  65 166 274  77 126 330 600\n",
      " 185  25  41 272 321 144  15 183  91  46 440 159 540 200 335 387  22 291\n",
      " 392 178 127 510  16 112]\n",
      "[33.6 26.6 23.3 28.1 43.1 25.6 31.  35.3 30.5  0.  37.6 38.  27.1 30.1\n",
      " 25.8 30.  45.8 29.6 43.3 34.6 39.3 35.4 39.8 29.  36.6 31.1 39.4 23.2\n",
      " 22.2 34.1 36.  31.6 24.8 19.9 27.6 24.  33.2 32.9 38.2 37.1 34.  40.2\n",
      " 22.7 45.4 27.4 42.  29.7 28.  39.1 19.4 24.2 24.4 33.7 34.7 23.  37.7\n",
      " 46.8 40.5 41.5 25.  25.4 32.8 32.5 42.7 19.6 28.9 28.6 43.4 35.1 32.\n",
      " 24.7 32.6 43.2 22.4 29.3 24.6 48.8 32.4 38.5 26.5 19.1 46.7 23.8 33.9\n",
      " 20.4 28.7 49.7 39.  26.1 22.5 39.6 29.5 34.3 37.4 33.3 31.2 28.2 53.2\n",
      " 34.2 26.8 55.  42.9 34.5 27.9 38.3 21.1 33.8 30.8 36.9 39.5 27.3 21.9\n",
      " 40.6 47.9 50.  25.2 40.9 37.2 44.2 29.9 31.9 28.4 43.5 32.7 67.1 45.\n",
      " 34.9 27.7 35.9 22.6 33.1 30.4 52.3 24.3 22.9 34.8 30.9 40.1 23.9 37.5\n",
      " 35.5 42.8 42.6 41.8 35.8 37.8 28.8 23.6 35.7 36.7 45.2 44.  46.2 35.\n",
      " 43.6 44.1 18.4 29.2 25.9 32.1 36.3 40.  25.1 27.5 45.6 27.8 24.9 25.3\n",
      " 37.9 27.  26.  38.7 20.8 36.1 30.7 32.3 52.9 21.  39.7 25.5 26.2 19.3\n",
      " 38.1 23.5 45.5 23.1 39.9 36.8 21.8 41.  42.2 34.4 27.2 36.5 29.8 39.2\n",
      " 38.4 36.2 48.3 20.  22.3 45.7 23.7 22.1 42.1 42.4 18.2 26.4 45.3 37.\n",
      " 24.5 32.2 59.4 21.2 26.7 30.2 46.1 41.3 38.8 35.2 42.3 40.7 46.5 33.5\n",
      " 37.3 30.3 26.3 21.7 36.4 28.5 26.9 38.6 31.3 19.5 20.1 40.8 23.4 28.3\n",
      " 38.9 57.3 35.6 49.6 44.6 24.1 44.5 41.2 49.3 46.3]\n",
      "[0.627 0.351 0.672 0.167 2.288 0.201 0.248 0.134 0.158 0.232 0.191 0.537\n",
      " 1.441 0.398 0.587 0.484 0.551 0.254 0.183 0.529 0.704 0.388 0.451 0.263\n",
      " 0.205 0.257 0.487 0.245 0.337 0.546 0.851 0.267 0.188 0.512 0.966 0.42\n",
      " 0.665 0.503 1.39  0.271 0.696 0.235 0.721 0.294 1.893 0.564 0.586 0.344\n",
      " 0.305 0.491 0.526 0.342 0.467 0.718 0.962 1.781 0.173 0.304 0.27  0.699\n",
      " 0.258 0.203 0.855 0.845 0.334 0.189 0.867 0.411 0.583 0.231 0.396 0.14\n",
      " 0.391 0.37  0.307 0.102 0.767 0.237 0.227 0.698 0.178 0.324 0.153 0.165\n",
      " 0.443 0.261 0.277 0.761 0.255 0.13  0.323 0.356 0.325 1.222 0.179 0.262\n",
      " 0.283 0.93  0.801 0.207 0.287 0.336 0.247 0.199 0.543 0.192 0.588 0.539\n",
      " 0.22  0.654 0.223 0.759 0.26  0.404 0.186 0.278 0.496 0.452 0.403 0.741\n",
      " 0.361 1.114 0.457 0.647 0.088 0.597 0.532 0.703 0.159 0.268 0.286 0.318\n",
      " 0.272 0.572 0.096 1.4   0.218 0.085 0.399 0.432 1.189 0.687 0.137 0.637\n",
      " 0.833 0.229 0.817 0.204 0.368 0.743 0.722 0.256 0.709 0.471 0.495 0.18\n",
      " 0.542 0.773 0.678 0.719 0.382 0.319 0.19  0.956 0.084 0.725 0.299 0.244\n",
      " 0.745 0.615 1.321 0.64  0.142 0.374 0.383 0.578 0.136 0.395 0.187 0.905\n",
      " 0.15  0.874 0.236 0.787 0.407 0.605 0.151 0.289 0.355 0.29  0.375 0.164\n",
      " 0.431 0.742 0.514 0.464 1.224 1.072 0.805 0.209 0.666 0.101 0.198 0.652\n",
      " 2.329 0.089 0.645 0.238 0.394 0.293 0.479 0.686 0.831 0.582 0.446 0.402\n",
      " 1.318 0.329 1.213 0.427 0.282 0.143 0.38  0.284 0.249 0.926 0.557 0.092\n",
      " 0.655 1.353 0.612 0.2   0.226 0.997 0.933 1.101 0.078 0.24  1.136 0.128\n",
      " 0.422 0.251 0.677 0.296 0.454 0.744 0.881 0.28  0.259 0.619 0.808 0.34\n",
      " 0.434 0.757 0.613 0.692 0.52  0.412 0.84  0.839 0.156 0.215 0.326 1.391\n",
      " 0.875 0.313 0.433 0.626 1.127 0.315 0.345 0.129 0.527 0.197 0.731 0.148\n",
      " 0.123 0.127 0.122 1.476 0.166 0.932 0.343 0.893 0.331 0.472 0.673 0.389\n",
      " 0.485 0.349 0.279 0.346 0.252 0.243 0.58  0.559 0.302 0.569 0.378 0.385\n",
      " 0.499 0.306 0.234 2.137 1.731 0.545 0.225 0.816 0.528 0.509 1.021 0.821\n",
      " 0.947 1.268 0.221 0.66  0.239 0.949 0.444 0.463 0.803 1.6   0.944 0.196\n",
      " 0.241 0.161 0.135 0.376 1.191 0.702 0.674 1.076 0.534 1.095 0.554 0.624\n",
      " 0.219 0.507 0.561 0.421 0.516 0.264 0.328 0.233 0.108 1.138 0.147 0.727\n",
      " 0.435 0.497 0.23  0.955 2.42  0.658 0.33  0.51  0.285 0.415 0.381 0.832\n",
      " 0.498 0.212 0.364 1.001 0.46  0.733 0.416 0.705 1.022 0.269 0.6   0.571\n",
      " 0.607 0.17  0.21  0.126 0.711 0.466 0.162 0.419 0.63  0.365 0.536 1.159\n",
      " 0.629 0.292 0.145 1.144 0.174 0.547 0.163 0.738 0.314 0.968 0.409 0.297\n",
      " 0.525 0.154 0.771 0.107 0.493 0.717 0.917 0.501 1.251 0.735 0.804 0.661\n",
      " 0.549 0.825 0.423 1.034 0.16  0.341 0.68  0.591 0.3   0.121 0.502 0.401\n",
      " 0.601 0.748 0.338 0.43  0.892 0.813 0.693 0.575 0.371 0.206 0.417 1.154\n",
      " 0.925 0.175 1.699 0.682 0.194 0.4   0.1   1.258 0.482 0.138 0.593 0.878\n",
      " 0.157 1.282 0.141 0.246 1.698 1.461 0.347 0.362 0.393 0.144 0.732 0.115\n",
      " 0.465 0.649 0.871 0.149 0.695 0.303 0.61  0.73  0.447 0.455 0.133 0.155\n",
      " 1.162 1.292 0.182 1.394 0.217 0.631 0.88  0.614 0.332 0.366 0.181 0.828\n",
      " 0.335 0.856 0.886 0.439 0.253 0.598 0.904 0.483 0.565 0.118 0.177 0.176\n",
      " 0.295 0.441 0.352 0.826 0.97  0.595 0.317 0.265 0.646 0.426 0.56  0.515\n",
      " 0.453 0.785 0.734 1.174 0.488 0.358 1.096 0.408 1.182 0.222 1.057 0.766\n",
      " 0.171]\n",
      "[50 31 32 21 33 30 26 29 53 54 34 57 59 51 27 41 43 22 38 60 28 45 35 46\n",
      " 56 37 48 40 25 24 58 42 44 39 36 23 61 69 62 55 65 47 52 66 49 63 67 72\n",
      " 81 64 70 68]\n",
      "['1' '0' 'O']\n"
     ]
    }
   ],
   "source": [
    "# find whether columns contain null values\n",
    "for column in diabetes_data:\n",
    "    print(diabetes_data[column].unique())"
   ]
  },
  {
   "cell_type": "markdown",
   "id": "8ee62c01",
   "metadata": {},
   "source": [
    "6. If you answered no to the question above, not so fast!\n",
    "\n",
    "   While it's technically true that none of the columns contain null values, that doesn't necessarily mean that the data isn't missing any values.\n",
    "   \n",
    "   When exploring data, you should always question your assumptions and try to dig deeper.\n",
    "   \n",
    "   To investigate further, calculate summary statistics on `diabetes_data` using the `.describe()` method."
   ]
  },
  {
   "cell_type": "code",
   "execution_count": 13,
   "id": "451efb00",
   "metadata": {},
   "outputs": [
    {
     "name": "stdout",
     "output_type": "stream",
     "text": [
      "       Pregnancies     Glucose  BloodPressure  SkinThickness     Insulin  \\\n",
      "count   768.000000  768.000000     768.000000     768.000000  768.000000   \n",
      "mean      3.845052  120.894531      69.105469      20.536458   79.799479   \n",
      "std       3.369578   31.972618      19.355807      15.952218  115.244002   \n",
      "min       0.000000    0.000000       0.000000       0.000000    0.000000   \n",
      "25%       1.000000   99.000000      62.000000       0.000000    0.000000   \n",
      "50%       3.000000  117.000000      72.000000      23.000000   30.500000   \n",
      "75%       6.000000  140.250000      80.000000      32.000000  127.250000   \n",
      "max      17.000000  199.000000     122.000000      99.000000  846.000000   \n",
      "\n",
      "              BMI  DiabetesPedigreeFunction         Age  \n",
      "count  768.000000                768.000000  768.000000  \n",
      "mean    31.992578                  0.471876   33.240885  \n",
      "std      7.884160                  0.331329   11.760232  \n",
      "min      0.000000                  0.078000   21.000000  \n",
      "25%     27.300000                  0.243750   24.000000  \n",
      "50%     32.000000                  0.372500   29.000000  \n",
      "75%     36.600000                  0.626250   41.000000  \n",
      "max     67.100000                  2.420000   81.000000  \n"
     ]
    }
   ],
   "source": [
    "# perform summary statistics\n",
    "print(diabetes_data.describe())"
   ]
  },
  {
   "cell_type": "markdown",
   "id": "ad900272",
   "metadata": {},
   "source": [
    "7. Looking at the summary statistics, do you notice anything odd about the following columns?\n",
    "\n",
    "   - `Glucose`\n",
    "   - `BloodPressure`\n",
    "   - `SkinThickness`\n",
    "   - `Insulin`\n",
    "   - `BMI`"
   ]
  },
  {
   "cell_type": "markdown",
   "id": "7131eacb",
   "metadata": {},
   "source": [
    "**Your response to question 7**: Min value is 0"
   ]
  },
  {
   "cell_type": "markdown",
   "id": "3ed15b79",
   "metadata": {},
   "source": [
    "8. Do you spot any other outliers in the data?"
   ]
  },
  {
   "cell_type": "markdown",
   "id": "8a708e88",
   "metadata": {},
   "source": [
    "**Your response to question 8**: Max value of BMI is 67, max pregnancies is 17"
   ]
  },
  {
   "cell_type": "markdown",
   "id": "4b5bcf47",
   "metadata": {},
   "source": [
    "9. Let's see if we can get a more accurate view of the missing values in the data.\n",
    "\n",
    "   Use the following code to replace the instances of `0` with `NaN` in the five columns mentioned:\n",
    "   \n",
    "   ```py\n",
    "   diabetes_data[['Glucose', 'BloodPressure', 'SkinThickness', 'Insulin', 'BMI']] = diabetes_data[['Glucose', 'BloodPressure', 'SkinThickness', 'Insulin', 'BMI']].replace(0, np.NaN)\n",
    "   ```"
   ]
  },
  {
   "cell_type": "code",
   "execution_count": 18,
   "id": "623def40",
   "metadata": {},
   "outputs": [],
   "source": [
    "# replace instances of 0 with NaN\n",
    "diabetes_data[['Glucose', 'BloodPressure', 'SkinThickness', 'Insulin', 'BMI']] = diabetes_data[['Glucose', 'BloodPressure', 'SkinThickness', 'Insulin', 'BMI']].replace(0, np.NaN)"
   ]
  },
  {
   "cell_type": "markdown",
   "id": "ad9fc71d",
   "metadata": {},
   "source": [
    "10. Next, check for missing (null) values in all of the columns just like you did in Step 5.\n",
    "\n",
    "    Now how many missing values are there?"
   ]
  },
  {
   "cell_type": "code",
   "execution_count": 20,
   "id": "1e4d2845",
   "metadata": {},
   "outputs": [
    {
     "name": "stdout",
     "output_type": "stream",
     "text": [
      "Pregnancies                   0\n",
      "Glucose                       5\n",
      "BloodPressure                35\n",
      "SkinThickness               227\n",
      "Insulin                     374\n",
      "BMI                          11\n",
      "DiabetesPedigreeFunction      0\n",
      "Age                           0\n",
      "Outcome                       0\n",
      "dtype: int64\n"
     ]
    }
   ],
   "source": [
    "# find whether columns contain null values after replacements are made\n",
    "print(diabetes_data.isnull().sum())"
   ]
  },
  {
   "cell_type": "markdown",
   "id": "4265329e",
   "metadata": {},
   "source": [
    "11. Let's take a closer look at these rows to get a better idea of _why_ some data might be missing.\n",
    "\n",
    "    Print out all the rows that contain missing (null) values."
   ]
  },
  {
   "cell_type": "code",
   "execution_count": 24,
   "id": "91f5b1fe",
   "metadata": {},
   "outputs": [
    {
     "name": "stdout",
     "output_type": "stream",
     "text": [
      "     Pregnancies  Glucose  BloodPressure  SkinThickness  Insulin   BMI  \\\n",
      "0              6    148.0           72.0           35.0      NaN  33.6   \n",
      "1              1     85.0           66.0           29.0      NaN  26.6   \n",
      "2              8    183.0           64.0            NaN      NaN  23.3   \n",
      "5              5    116.0           74.0            NaN      NaN  25.6   \n",
      "7             10    115.0            NaN            NaN      NaN  35.3   \n",
      "..           ...      ...            ...            ...      ...   ...   \n",
      "761            9    170.0           74.0           31.0      NaN  44.0   \n",
      "762            9     89.0           62.0            NaN      NaN  22.5   \n",
      "764            2    122.0           70.0           27.0      NaN  36.8   \n",
      "766            1    126.0           60.0            NaN      NaN  30.1   \n",
      "767            1     93.0           70.0           31.0      NaN  30.4   \n",
      "\n",
      "     DiabetesPedigreeFunction  Age Outcome  \n",
      "0                       0.627   50       1  \n",
      "1                       0.351   31       0  \n",
      "2                       0.672   32       1  \n",
      "5                       0.201   30       0  \n",
      "7                       0.134   29       0  \n",
      "..                        ...  ...     ...  \n",
      "761                     0.403   43       1  \n",
      "762                     0.142   33       0  \n",
      "764                     0.340   27       0  \n",
      "766                     0.349   47       1  \n",
      "767                     0.315   23       0  \n",
      "\n",
      "[376 rows x 9 columns]\n"
     ]
    }
   ],
   "source": [
    "# print rows with missing values\n",
    "print(diabetes_data[diabetes_data.isnull().any(axis=1)])"
   ]
  },
  {
   "cell_type": "markdown",
   "id": "e3f06a2e",
   "metadata": {},
   "source": [
    "12. Go through the rows with missing data. Do you notice any patterns or overlaps between the missing data?"
   ]
  },
  {
   "cell_type": "markdown",
   "id": "cb42cfe6",
   "metadata": {},
   "source": [
    "**Your response to question 12**: All have had pregnancies before and are missing insulin measurements"
   ]
  },
  {
   "cell_type": "markdown",
   "id": "5b597d09",
   "metadata": {},
   "source": [
    "13. Next, take a closer look at the data types of each column in `diabetes_data`.\n",
    "\n",
    "    Does the result match what you would expect?"
   ]
  },
  {
   "cell_type": "code",
   "execution_count": 27,
   "id": "5855aa09",
   "metadata": {},
   "outputs": [
    {
     "name": "stdout",
     "output_type": "stream",
     "text": [
      "Pregnancies                   int64\n",
      "Glucose                     float64\n",
      "BloodPressure               float64\n",
      "SkinThickness               float64\n",
      "Insulin                     float64\n",
      "BMI                         float64\n",
      "DiabetesPedigreeFunction    float64\n",
      "Age                           int64\n",
      "Outcome                      object\n",
      "dtype: object\n"
     ]
    }
   ],
   "source": [
    "# print data types using .info() method\n",
    "print(diabetes_data.dtypes)"
   ]
  },
  {
   "cell_type": "markdown",
   "id": "c61b8b02",
   "metadata": {},
   "source": [
    "14. To figure out why the `Outcome` column is of type `object` (string) instead of type `int64`, print out the unique values in the `Outcome` column."
   ]
  },
  {
   "cell_type": "code",
   "execution_count": 29,
   "id": "ffedd117",
   "metadata": {},
   "outputs": [
    {
     "name": "stdout",
     "output_type": "stream",
     "text": [
      "['1' '0' 'O']\n"
     ]
    }
   ],
   "source": [
    "# print unique values of Outcome column\n",
    "print(diabetes_data[\"Outcome\"].unique())"
   ]
  },
  {
   "cell_type": "markdown",
   "id": "42b3bcbe",
   "metadata": {},
   "source": [
    "15. How might you resolve this issue?"
   ]
  },
  {
   "cell_type": "markdown",
   "id": "7495f5b6",
   "metadata": {},
   "source": [
    "**Your response to question 15**: Either exclude those with O or convert them to 0."
   ]
  },
  {
   "cell_type": "markdown",
   "id": "9c5fbcbe",
   "metadata": {},
   "source": [
    "## Next Steps:"
   ]
  },
  {
   "cell_type": "markdown",
   "id": "22a324d0",
   "metadata": {},
   "source": [
    "16. Congratulations! In this project, you saw how EDA can help with the initial data inspection and cleaning process. This is an important step as it helps to keep your datasets clean and reliable.\n",
    "\n",
    "    Here are some ways you might extend this project if you'd like:\n",
    "    - Use `.value_counts()` to more fully explore the values in each column.\n",
    "    - Investigate other outliers in the data that may be easily overlooked.\n",
    "    - Instead of changing the `0` values in the five columns to `NaN`, try replacing the values with the median or mean of each column."
   ]
  },
  {
   "cell_type": "code",
   "execution_count": 36,
   "id": "b7f440b6",
   "metadata": {},
   "outputs": [
    {
     "name": "stdout",
     "output_type": "stream",
     "text": [
      "BloodPressure\n",
      "70.0     57\n",
      "74.0     52\n",
      "68.0     45\n",
      "78.0     45\n",
      "72.0     44\n",
      "64.0     43\n",
      "80.0     40\n",
      "76.0     39\n",
      "60.0     37\n",
      "62.0     34\n",
      "66.0     30\n",
      "82.0     30\n",
      "88.0     25\n",
      "84.0     23\n",
      "90.0     22\n",
      "86.0     21\n",
      "58.0     21\n",
      "50.0     13\n",
      "56.0     12\n",
      "54.0     11\n",
      "52.0     11\n",
      "92.0      8\n",
      "75.0      8\n",
      "65.0      7\n",
      "85.0      6\n",
      "94.0      6\n",
      "48.0      5\n",
      "44.0      4\n",
      "96.0      4\n",
      "110.0     3\n",
      "106.0     3\n",
      "100.0     3\n",
      "98.0      3\n",
      "30.0      2\n",
      "46.0      2\n",
      "55.0      2\n",
      "104.0     2\n",
      "108.0     2\n",
      "40.0      1\n",
      "122.0     1\n",
      "95.0      1\n",
      "102.0     1\n",
      "61.0      1\n",
      "24.0      1\n",
      "38.0      1\n",
      "114.0     1\n",
      "Name: count, dtype: int64\n"
     ]
    }
   ],
   "source": [
    "print(diabetes_data[\"BloodPressure\"].value_counts())"
   ]
  },
  {
   "cell_type": "code",
   "execution_count": null,
   "id": "4ade9b84-621a-4088-9d72-2b17192ec109",
   "metadata": {},
   "outputs": [],
   "source": []
  }
 ],
 "metadata": {
  "kernelspec": {
   "display_name": "Python 3 (ipykernel)",
   "language": "python",
   "name": "python3"
  },
  "language_info": {
   "codemirror_mode": {
    "name": "ipython",
    "version": 3
   },
   "file_extension": ".py",
   "mimetype": "text/x-python",
   "name": "python",
   "nbconvert_exporter": "python",
   "pygments_lexer": "ipython3",
   "version": "3.12.4"
  }
 },
 "nbformat": 4,
 "nbformat_minor": 5
}
